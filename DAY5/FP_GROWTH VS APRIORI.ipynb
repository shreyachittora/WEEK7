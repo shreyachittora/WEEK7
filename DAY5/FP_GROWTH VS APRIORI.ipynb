{
 "cells": [
  {
   "cell_type": "code",
   "execution_count": null,
   "id": "a5eab945-f9b2-49e7-8274-22aec0f3607d",
   "metadata": {},
   "outputs": [],
   "source": [
    "import pandas as pd\n",
    "import numpy as np\n",
    "\n",
    "from mlxtend.frequent_patterns import apriori, fpgrowth, association_rules\n",
    "from mlxtend.preprocessing import TransactionEncoder\n",
    "\n",
    "import time"
   ]
  },
  {
   "cell_type": "code",
   "execution_count": null,
   "id": "2315ff1b-c52b-409d-b2af-14afce1e795a",
   "metadata": {},
   "outputs": [],
   "source": [
    "# load data\n",
    "\n",
    "data = pd.read_csv(\"DataSetA.csv\", on_bad_lines=\"skip\")\n",
    "\n",
    "data.head()"
   ]
  },
  {
   "cell_type": "code",
   "execution_count": null,
   "id": "ff93d797-78d3-4942-9eea-fa87b348a5a7",
   "metadata": {},
   "outputs": [],
   "source": [
    "# Display data information (column types, null values, etc.)\n",
    "data.info()"
   ]
  },
  {
   "cell_type": "markdown",
   "id": "3e232183-955e-4eba-9044-df4ac6cc7910",
   "metadata": {},
   "source": [
    "##### Data Cleaning"
   ]
  },
  {
   "cell_type": "code",
   "execution_count": null,
   "id": "5516c016-7b1a-45c7-a6ad-596f5b55294e",
   "metadata": {},
   "outputs": [],
   "source": [
    "data = data.drop(columns=['Unnamed: 6'])\n",
    "\n"
   ]
  },
  {
   "cell_type": "code",
   "execution_count": null,
   "id": "3d3205a9-7cbe-4fd6-bf38-bbc6e0b568be",
   "metadata": {},
   "outputs": [],
   "source": [
    "for col in data.columns:\n",
    "    if data[col].dtype == object:\n",
    "        data[col] = data[col].str.strip().str.lower()\n"
   ]
  },
  {
   "cell_type": "code",
   "execution_count": null,
   "id": "ea6bffc9-fc0b-4fd0-8685-1840f67d51b0",
   "metadata": {},
   "outputs": [],
   "source": [
    "print(\"Missing values per column:\")\n",
    "print(data.isnull().sum())\n",
    "\n"
   ]
  },
  {
   "cell_type": "code",
   "execution_count": null,
   "id": "2497b69c-9040-452d-8780-83523cdf9084",
   "metadata": {},
   "outputs": [],
   "source": [
    "\n",
    "clean = data.fillna('')\n",
    "\n",
    "transactions = [\n",
    "    [item for item in row if item]    \n",
    "    for row in clean.values\n",
    "]\n",
    "\n",
    "transactions\n"
   ]
  },
  {
   "cell_type": "code",
   "execution_count": null,
   "id": "97f8d79d-fd1e-4335-9538-7e09c71fed67",
   "metadata": {},
   "outputs": [],
   "source": [
    "print(\"\\nFirst 5 transactions:\")\n",
    "for i, transaction in enumerate(transactions[:5]):\n",
    "    print(f\"Transaction {i+1}: {transaction}\")\n"
   ]
  },
  {
   "cell_type": "markdown",
   "id": "c584cb77-fd98-4016-9cdf-9ae3faece158",
   "metadata": {},
   "source": [
    "##### Encoding"
   ]
  },
  {
   "cell_type": "code",
   "execution_count": null,
   "id": "9260ef37-641c-481f-8d81-cb0fc85ea710",
   "metadata": {},
   "outputs": [],
   "source": [
    "te = TransactionEncoder()\n",
    "te_ary = te.fit(transactions).transform(transactions)\n",
    "df_transactions = pd.DataFrame(te_ary, columns=te.columns_)\n",
    "\n",
    "# Preview the one-hot encoded DataFrame\n",
    "print(\"\\nOne-hot encoded data preview:\")\n",
    "print(df_transactions.head())"
   ]
  },
  {
   "cell_type": "markdown",
   "id": "d98af0ee-d9b7-496b-b250-2b0aecb226c2",
   "metadata": {},
   "source": [
    "##### Metrices"
   ]
  },
  {
   "cell_type": "code",
   "execution_count": null,
   "id": "da69fa2d-f7c4-4843-a2d5-db64e15dae66",
   "metadata": {},
   "outputs": [],
   "source": [
    "min_support = 0.01 \n",
    "min_confidence = 0.3\n",
    "\n",
    "num_transactions = len(df_transactions)"
   ]
  },
  {
   "cell_type": "markdown",
   "id": "facfdfbd-52f5-4a00-8e53-cc95c6bba9b1",
   "metadata": {},
   "source": [
    "##### Apriori Algorithm\n"
   ]
  },
  {
   "cell_type": "code",
   "execution_count": 22,
   "id": "dda8e4c6-4e15-4b51-96e1-c4252158f8a9",
   "metadata": {},
   "outputs": [],
   "source": [
    "frequent_itemsets_apriori = apriori(df_transactions, min_support=min_support, use_colnames=True)\n",
    "\n",
    "rules_apriori = association_rules(\n",
    "    frequent_itemsets_apriori,\n",
    "    num_itemsets=num_transactions,\n",
    "    metric=\"confidence\",\n",
    "    min_threshold=0.3  \n",
    ")\n",
    "\n"
   ]
  },
  {
   "cell_type": "code",
   "execution_count": 24,
   "id": "027920b5-664f-4941-9d01-4b648ab4cfc2",
   "metadata": {},
   "outputs": [
    {
     "name": "stdout",
     "output_type": "stream",
     "text": [
      "\n",
      "===== Apriori Algorithm Results =====\n",
      "      support                              itemsets\n",
      "0    0.349445                               (bread)\n",
      "1    0.349330                              (butter)\n",
      "2    0.356660                              (cheese)\n",
      "3    0.353224                       (coffee powder)\n",
      "4    0.356431                                (ghee)\n",
      "..        ...                                   ...\n",
      "530  0.011568      (milk, sugar, tea powder, sweet)\n",
      "531  0.010652         (sugar, milk, sweet, yougurt)\n",
      "532  0.010308    (milk, tea powder, sweet, yougurt)\n",
      "533  0.010881  (sugar, tea powder, panner, yougurt)\n",
      "534  0.010995   (sugar, tea powder, sweet, yougurt)\n",
      "\n",
      "[535 rows x 2 columns]\n"
     ]
    }
   ],
   "source": [
    "print(\"\\n===== Apriori Algorithm Results =====\")\n",
    "print(frequent_itemsets_apriori)\n"
   ]
  },
  {
   "cell_type": "code",
   "execution_count": 25,
   "id": "1df63331-48a7-4303-a53d-62e4b261d458",
   "metadata": {},
   "outputs": [
    {
     "name": "stdout",
     "output_type": "stream",
     "text": [
      "\n",
      "Apriori Association Rules:\n",
      "                       antecedents      consequents   support  confidence  \\\n",
      "0                         (butter)          (bread)  0.114076    0.326557   \n",
      "1                          (bread)         (butter)  0.114076    0.326450   \n",
      "2                          (bread)         (cheese)  0.120605    0.345133   \n",
      "3                         (cheese)          (bread)  0.120605    0.338150   \n",
      "4                          (bread)  (coffee powder)  0.117741    0.336939   \n",
      "..                             ...              ...       ...         ...   \n",
      "918      (milk, tea powder, sugar)          (sweet)  0.011568    0.316614   \n",
      "919           (milk, sugar, sweet)     (tea powder)  0.011568    0.306991   \n",
      "920     (sugar, tea powder, sweet)           (milk)  0.011568    0.314642   \n",
      "921    (sugar, tea powder, panner)        (yougurt)  0.010881    0.318792   \n",
      "922  (panner, tea powder, yougurt)          (sugar)  0.010881    0.314570   \n",
      "\n",
      "         lift  \n",
      "0    0.934504  \n",
      "1    0.934504  \n",
      "2    0.967680  \n",
      "3    0.967680  \n",
      "4    0.953895  \n",
      "..        ...  \n",
      "918  0.905161  \n",
      "919  0.893148  \n",
      "920  0.884461  \n",
      "921  0.896705  \n",
      "922  0.902862  \n",
      "\n",
      "[923 rows x 5 columns]\n"
     ]
    }
   ],
   "source": [
    "print(\"\\nApriori Association Rules:\")\n",
    "print(rules_apriori[['antecedents', 'consequents', 'support', 'confidence', 'lift']])"
   ]
  },
  {
   "cell_type": "markdown",
   "id": "8a78c552-241a-4d0e-9b23-2209180295c2",
   "metadata": {},
   "source": [
    "##### FP-Growth Algorithm\n"
   ]
  },
  {
   "cell_type": "code",
   "execution_count": 28,
   "id": "0e606040-b541-4318-93b4-9d1e9fc970dc",
   "metadata": {},
   "outputs": [],
   "source": [
    "frequent_itemsets_fpgrowth = fpgrowth(df_transactions, min_support=min_support, use_colnames=True)\n",
    "\n",
    "rules_fpgrowth = association_rules(\n",
    "    frequent_itemsets_fpgrowth,\n",
    "    num_itemsets=num_transactions, \n",
    "    metric=\"confidence\",\n",
    "    min_threshold=0.3  \n",
    ")\n"
   ]
  },
  {
   "cell_type": "code",
   "execution_count": 29,
   "id": "5418f7cc-c216-4df3-8468-85b304a2584b",
   "metadata": {},
   "outputs": [
    {
     "name": "stdout",
     "output_type": "stream",
     "text": [
      "\n",
      "===== FP-Growth Algorithm Results =====\n",
      "      support                      itemsets\n",
      "0    0.356431                        (ghee)\n",
      "1    0.353224               (coffee powder)\n",
      "2    0.356660                      (cheese)\n",
      "3    0.349330                      (butter)\n",
      "4    0.343718                  (tea powder)\n",
      "..        ...                           ...\n",
      "530  0.011224  (sugar, bread, milk, butter)\n",
      "531  0.010194    (milk, sugar, bread, ghee)\n",
      "532  0.119688                  (milk, ghee)\n",
      "533  0.117054                (milk, cheese)\n",
      "534  0.038025          (milk, ghee, cheese)\n",
      "\n",
      "[535 rows x 2 columns]\n"
     ]
    }
   ],
   "source": [
    "\n",
    "print(\"\\n===== FP-Growth Algorithm Results =====\")\n",
    "print(frequent_itemsets_fpgrowth)\n"
   ]
  },
  {
   "cell_type": "code",
   "execution_count": 30,
   "id": "11e87608-4a2d-4882-97ef-2842501a9fdc",
   "metadata": {},
   "outputs": [
    {
     "name": "stdout",
     "output_type": "stream",
     "text": [
      "\n",
      "FP-Growth Association Rules:\n",
      "         antecedents      consequents   support  confidence      lift\n",
      "0             (ghee)         (cheese)  0.120948    0.339332  0.951414\n",
      "1           (cheese)           (ghee)  0.120948    0.339114  0.951414\n",
      "2             (ghee)  (coffee powder)  0.125873    0.353149  0.999788\n",
      "3    (coffee powder)           (ghee)  0.125873    0.356355  0.999788\n",
      "4    (coffee powder)         (cheese)  0.122895    0.347925  0.975508\n",
      "..               ...              ...       ...         ...       ...\n",
      "918           (milk)         (cheese)  0.117054    0.329041  0.922560\n",
      "919         (cheese)           (milk)  0.117054    0.328195  0.922560\n",
      "920     (milk, ghee)         (cheese)  0.038025    0.317703  0.890773\n",
      "921   (milk, cheese)           (ghee)  0.038025    0.324853  0.911405\n",
      "922   (ghee, cheese)           (milk)  0.038025    0.314394  0.883765\n",
      "\n",
      "[923 rows x 5 columns]\n"
     ]
    }
   ],
   "source": [
    "print(\"\\nFP-Growth Association Rules:\")\n",
    "print(rules_fpgrowth[['antecedents', 'consequents', 'support', 'confidence', 'lift']])"
   ]
  },
  {
   "cell_type": "code",
   "execution_count": null,
   "id": "5213dfd7-4323-47d2-80d4-2c86a41b4773",
   "metadata": {},
   "outputs": [],
   "source": []
  },
  {
   "cell_type": "code",
   "execution_count": null,
   "id": "0dd46c31-d412-40f5-a588-07f4dd2f27db",
   "metadata": {},
   "outputs": [],
   "source": []
  },
  {
   "cell_type": "code",
   "execution_count": null,
   "id": "12d999f8-f8a0-497e-96e1-43ed31568015",
   "metadata": {},
   "outputs": [],
   "source": []
  },
  {
   "cell_type": "code",
   "execution_count": null,
   "id": "fe7bb13c-6759-4b6c-8f0d-d14639f38a5e",
   "metadata": {},
   "outputs": [],
   "source": []
  },
  {
   "cell_type": "code",
   "execution_count": null,
   "id": "ab62e3b8-a09d-47a1-b691-5c43bc2d0161",
   "metadata": {},
   "outputs": [],
   "source": []
  }
 ],
 "metadata": {
  "kernelspec": {
   "display_name": "Python 3 (ipykernel)",
   "language": "python",
   "name": "python3"
  },
  "language_info": {
   "codemirror_mode": {
    "name": "ipython",
    "version": 3
   },
   "file_extension": ".py",
   "mimetype": "text/x-python",
   "name": "python",
   "nbconvert_exporter": "python",
   "pygments_lexer": "ipython3",
   "version": "3.12.7"
  }
 },
 "nbformat": 4,
 "nbformat_minor": 5
}
